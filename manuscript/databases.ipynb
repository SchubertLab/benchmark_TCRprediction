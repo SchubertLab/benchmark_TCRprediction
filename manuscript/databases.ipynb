{
 "cells": [
  {
   "cell_type": "markdown",
   "id": "22abba08",
   "metadata": {},
   "source": [
    "# Preprocessing of TCR databases"
   ]
  },
  {
   "cell_type": "code",
   "execution_count": 1,
   "id": "d8695468",
   "metadata": {},
   "outputs": [],
   "source": [
    "%matplotlib inline\n",
    "import pandas as pd\n",
    "import numpy as np \n",
    "import seaborn as sb\n",
    "import matplotlib.pyplot as plt\n",
    "\n",
    "import os\n",
    "import sys\n",
    "sys.path.append('../tcr_benchmark')\n",
    "\n",
    "from utils.config import col_va, col_ja, col_cdr3a, col_vb, col_jb, col_cdr3b, col_epitope, col_mhc\n",
    "from utils.config import required_cols\n",
    "\n",
    "sb.set_style('whitegrid')"
   ]
  },
  {
   "cell_type": "markdown",
   "id": "0910f218",
   "metadata": {},
   "source": [
    "## Helpers"
   ]
  },
  {
   "cell_type": "code",
   "execution_count": 2,
   "id": "30d0826a",
   "metadata": {},
   "outputs": [],
   "source": [
    "# IEDB does not save leading C and ending F or W in the sequence. We will therefore remove all of them to have it uniform.\n",
    "def trim_tcr(cdr3, is_beta):\n",
    "    if type(cdr3) != str:\n",
    "        return cdr3\n",
    "    idx_start = 0\n",
    "    if cdr3[0] == 'C':\n",
    "        idx_start = 1\n",
    "\n",
    "    idx_end = -1\n",
    "    if cdr3[-1] == 'F':\n",
    "        idx_end = -2\n",
    "    if cdr3[-1] == 'W' and not is_beta:\n",
    "        idx_end = -2\n",
    "    return cdr3[idx_start: idx_end]"
   ]
  },
  {
   "cell_type": "markdown",
   "id": "415d350b",
   "metadata": {},
   "source": [
    "## Benchmark Data\n",
    "- Minervina\n",
    "- Dorigatti\n",
    "- Francis"
   ]
  },
  {
   "cell_type": "code",
   "execution_count": 3,
   "id": "59926166",
   "metadata": {},
   "outputs": [],
   "source": [
    "path_base = '../tcr_benchmark/data'"
   ]
  },
  {
   "cell_type": "code",
   "execution_count": 4,
   "id": "cdb92d3a",
   "metadata": {},
   "outputs": [
    {
     "data": {
      "text/html": [
       "<div>\n",
       "<style scoped>\n",
       "    .dataframe tbody tr th:only-of-type {\n",
       "        vertical-align: middle;\n",
       "    }\n",
       "\n",
       "    .dataframe tbody tr th {\n",
       "        vertical-align: top;\n",
       "    }\n",
       "\n",
       "    .dataframe thead th {\n",
       "        text-align: right;\n",
       "    }\n",
       "</style>\n",
       "<table border=\"1\" class=\"dataframe\">\n",
       "  <thead>\n",
       "    <tr style=\"text-align: right;\">\n",
       "      <th></th>\n",
       "      <th>CDR3_alpha</th>\n",
       "      <th>V_alpha</th>\n",
       "      <th>J_alpha</th>\n",
       "      <th>CDR3_beta</th>\n",
       "      <th>V_beta</th>\n",
       "      <th>J_beta</th>\n",
       "      <th>Epitope</th>\n",
       "      <th>MHC</th>\n",
       "    </tr>\n",
       "  </thead>\n",
       "  <tbody>\n",
       "    <tr>\n",
       "      <th>0</th>\n",
       "      <td>AAPGSARQL</td>\n",
       "      <td>TRAV29/DV5</td>\n",
       "      <td>TRAJ22</td>\n",
       "      <td>ASSFENQPEA</td>\n",
       "      <td>TRBV5-1</td>\n",
       "      <td>TRBJ1-1</td>\n",
       "      <td>DTDFVNEFY</td>\n",
       "      <td>HLA-A*01:01</td>\n",
       "    </tr>\n",
       "    <tr>\n",
       "      <th>1</th>\n",
       "      <td>AVDIRAGNML</td>\n",
       "      <td>TRAV39</td>\n",
       "      <td>TRAJ39</td>\n",
       "      <td>ASSLAGYEQ</td>\n",
       "      <td>TRBV5-1</td>\n",
       "      <td>TRBJ2-7</td>\n",
       "      <td>LTDEMIAQY</td>\n",
       "      <td>HLA-A*01:01</td>\n",
       "    </tr>\n",
       "    <tr>\n",
       "      <th>2</th>\n",
       "      <td>AMSVGNNNDM</td>\n",
       "      <td>TRAV12-3</td>\n",
       "      <td>TRAJ43</td>\n",
       "      <td>ASMSLYQETQ</td>\n",
       "      <td>TRBV5-6</td>\n",
       "      <td>TRBJ2-5</td>\n",
       "      <td>TTDPSFLGRY</td>\n",
       "      <td>HLA-A*01:01</td>\n",
       "    </tr>\n",
       "    <tr>\n",
       "      <th>3</th>\n",
       "      <td>AIPGAGSYQL</td>\n",
       "      <td>TRAV14/DV4</td>\n",
       "      <td>TRAJ28</td>\n",
       "      <td>ASSRHPRGEKL</td>\n",
       "      <td>TRBV27</td>\n",
       "      <td>TRBJ1-4</td>\n",
       "      <td>TTDPSFLGRY</td>\n",
       "      <td>HLA-A*01:01</td>\n",
       "    </tr>\n",
       "    <tr>\n",
       "      <th>4</th>\n",
       "      <td>AVSPLGGYNKL</td>\n",
       "      <td>TRAV1-2</td>\n",
       "      <td>TRAJ4</td>\n",
       "      <td>ASSLLSPGYNSPL</td>\n",
       "      <td>TRBV28</td>\n",
       "      <td>TRBJ1-6</td>\n",
       "      <td>VYFLQSINF</td>\n",
       "      <td>HLA-A*24:02</td>\n",
       "    </tr>\n",
       "  </tbody>\n",
       "</table>\n",
       "</div>"
      ],
      "text/plain": [
       "    CDR3_alpha     V_alpha J_alpha      CDR3_beta   V_beta   J_beta  \\\n",
       "0    AAPGSARQL  TRAV29/DV5  TRAJ22     ASSFENQPEA  TRBV5-1  TRBJ1-1   \n",
       "1   AVDIRAGNML      TRAV39  TRAJ39      ASSLAGYEQ  TRBV5-1  TRBJ2-7   \n",
       "2   AMSVGNNNDM    TRAV12-3  TRAJ43     ASMSLYQETQ  TRBV5-6  TRBJ2-5   \n",
       "3   AIPGAGSYQL  TRAV14/DV4  TRAJ28    ASSRHPRGEKL   TRBV27  TRBJ1-4   \n",
       "4  AVSPLGGYNKL     TRAV1-2   TRAJ4  ASSLLSPGYNSPL   TRBV28  TRBJ1-6   \n",
       "\n",
       "      Epitope          MHC  \n",
       "0   DTDFVNEFY  HLA-A*01:01  \n",
       "1   LTDEMIAQY  HLA-A*01:01  \n",
       "2  TTDPSFLGRY  HLA-A*01:01  \n",
       "3  TTDPSFLGRY  HLA-A*01:01  \n",
       "4   VYFLQSINF  HLA-A*24:02  "
      ]
     },
     "execution_count": 4,
     "metadata": {},
     "output_type": "execute_result"
    }
   ],
   "source": [
    "df_minervina = pd.read_csv(f'{path_base}/minervina.csv', index_col=0)\n",
    "df_minervina = df_minervina.drop_duplicates()\n",
    "df_minervina[col_cdr3b] = df_minervina[col_cdr3b].apply(lambda x: trim_tcr(x, True))\n",
    "df_minervina[col_cdr3a] = df_minervina[col_cdr3a].apply(lambda x: trim_tcr(x, False))\n",
    "df_minervina.head()"
   ]
  },
  {
   "cell_type": "code",
   "execution_count": 5,
   "id": "4e01bbed",
   "metadata": {},
   "outputs": [
    {
     "data": {
      "text/html": [
       "<div>\n",
       "<style scoped>\n",
       "    .dataframe tbody tr th:only-of-type {\n",
       "        vertical-align: middle;\n",
       "    }\n",
       "\n",
       "    .dataframe tbody tr th {\n",
       "        vertical-align: top;\n",
       "    }\n",
       "\n",
       "    .dataframe thead th {\n",
       "        text-align: right;\n",
       "    }\n",
       "</style>\n",
       "<table border=\"1\" class=\"dataframe\">\n",
       "  <thead>\n",
       "    <tr style=\"text-align: right;\">\n",
       "      <th></th>\n",
       "      <th>Epitope</th>\n",
       "      <th>MHC</th>\n",
       "      <th>CDR3_alpha</th>\n",
       "      <th>CDR3_beta</th>\n",
       "      <th>V_alpha</th>\n",
       "      <th>J_alpha</th>\n",
       "      <th>V_beta</th>\n",
       "      <th>J_beta</th>\n",
       "    </tr>\n",
       "  </thead>\n",
       "  <tbody>\n",
       "    <tr>\n",
       "      <th>0</th>\n",
       "      <td>VPSVWRSSL</td>\n",
       "      <td>HLA-B*07:02</td>\n",
       "      <td>ALGTYGNNRL</td>\n",
       "      <td>ASTKGGPSSYEQ</td>\n",
       "      <td>TRAV19*01</td>\n",
       "      <td>TRAJ7*01</td>\n",
       "      <td>TRBV6-6*02</td>\n",
       "      <td>TRBJ2-7*01</td>\n",
       "    </tr>\n",
       "    <tr>\n",
       "      <th>1</th>\n",
       "      <td>RPSVWRSSL</td>\n",
       "      <td>HLA-B*07:02</td>\n",
       "      <td>ALGTYGNNRL</td>\n",
       "      <td>ASTKGGPSSYEQ</td>\n",
       "      <td>TRAV19*01</td>\n",
       "      <td>TRAJ7*01</td>\n",
       "      <td>TRBV6-6*02</td>\n",
       "      <td>TRBJ2-7*01</td>\n",
       "    </tr>\n",
       "    <tr>\n",
       "      <th>2</th>\n",
       "      <td>APSVWRSSL</td>\n",
       "      <td>HLA-B*07:02</td>\n",
       "      <td>ALGTYGNNRL</td>\n",
       "      <td>ASTKGGPSSYEQ</td>\n",
       "      <td>TRAV19*01</td>\n",
       "      <td>TRAJ7*01</td>\n",
       "      <td>TRBV6-6*02</td>\n",
       "      <td>TRBJ2-7*01</td>\n",
       "    </tr>\n",
       "    <tr>\n",
       "      <th>3</th>\n",
       "      <td>SPSVWRSSL</td>\n",
       "      <td>HLA-B*07:02</td>\n",
       "      <td>ALGTYGNNRL</td>\n",
       "      <td>ASTKGGPSSYEQ</td>\n",
       "      <td>TRAV19*01</td>\n",
       "      <td>TRAJ7*01</td>\n",
       "      <td>TRBV6-6*02</td>\n",
       "      <td>TRBJ2-7*01</td>\n",
       "    </tr>\n",
       "    <tr>\n",
       "      <th>4</th>\n",
       "      <td>KPSVWRSSL</td>\n",
       "      <td>HLA-B*07:02</td>\n",
       "      <td>ALGTYGNNRL</td>\n",
       "      <td>ASTKGGPSSYEQ</td>\n",
       "      <td>TRAV19*01</td>\n",
       "      <td>TRAJ7*01</td>\n",
       "      <td>TRBV6-6*02</td>\n",
       "      <td>TRBJ2-7*01</td>\n",
       "    </tr>\n",
       "  </tbody>\n",
       "</table>\n",
       "</div>"
      ],
      "text/plain": [
       "     Epitope          MHC  CDR3_alpha     CDR3_beta    V_alpha   J_alpha  \\\n",
       "0  VPSVWRSSL  HLA-B*07:02  ALGTYGNNRL  ASTKGGPSSYEQ  TRAV19*01  TRAJ7*01   \n",
       "1  RPSVWRSSL  HLA-B*07:02  ALGTYGNNRL  ASTKGGPSSYEQ  TRAV19*01  TRAJ7*01   \n",
       "2  APSVWRSSL  HLA-B*07:02  ALGTYGNNRL  ASTKGGPSSYEQ  TRAV19*01  TRAJ7*01   \n",
       "3  SPSVWRSSL  HLA-B*07:02  ALGTYGNNRL  ASTKGGPSSYEQ  TRAV19*01  TRAJ7*01   \n",
       "4  KPSVWRSSL  HLA-B*07:02  ALGTYGNNRL  ASTKGGPSSYEQ  TRAV19*01  TRAJ7*01   \n",
       "\n",
       "       V_beta      J_beta  \n",
       "0  TRBV6-6*02  TRBJ2-7*01  \n",
       "1  TRBV6-6*02  TRBJ2-7*01  \n",
       "2  TRBV6-6*02  TRBJ2-7*01  \n",
       "3  TRBV6-6*02  TRBJ2-7*01  \n",
       "4  TRBV6-6*02  TRBJ2-7*01  "
      ]
     },
     "execution_count": 5,
     "metadata": {},
     "output_type": "execute_result"
    }
   ],
   "source": [
    "df_dorigatti = pd.read_csv(f'{path_base}/dorigatti.csv', index_col=0)\n",
    "df_dorigatti = df_dorigatti.drop(columns=['TCR', 'Label', 'Activation Score'])\n",
    "df_dorigatti = df_dorigatti.drop_duplicates()\n",
    "df_dorigatti[col_cdr3b] = df_dorigatti[col_cdr3b].apply(lambda x: trim_tcr(x, True))\n",
    "df_dorigatti[col_cdr3a] = df_dorigatti[col_cdr3a].apply(lambda x: trim_tcr(x, False))\n",
    "df_dorigatti.head()"
   ]
  },
  {
   "cell_type": "code",
   "execution_count": 6,
   "id": "c1be23cd",
   "metadata": {},
   "outputs": [
    {
     "data": {
      "text/html": [
       "<div>\n",
       "<style scoped>\n",
       "    .dataframe tbody tr th:only-of-type {\n",
       "        vertical-align: middle;\n",
       "    }\n",
       "\n",
       "    .dataframe tbody tr th {\n",
       "        vertical-align: top;\n",
       "    }\n",
       "\n",
       "    .dataframe thead th {\n",
       "        text-align: right;\n",
       "    }\n",
       "</style>\n",
       "<table border=\"1\" class=\"dataframe\">\n",
       "  <thead>\n",
       "    <tr style=\"text-align: right;\">\n",
       "      <th></th>\n",
       "      <th>CDR3_alpha</th>\n",
       "      <th>V_alpha</th>\n",
       "      <th>J_alpha</th>\n",
       "      <th>CDR3_beta</th>\n",
       "      <th>V_beta</th>\n",
       "      <th>J_beta</th>\n",
       "      <th>Epitope</th>\n",
       "      <th>MHC</th>\n",
       "    </tr>\n",
       "  </thead>\n",
       "  <tbody>\n",
       "    <tr>\n",
       "      <th>0</th>\n",
       "      <td>AAASGYGQNF</td>\n",
       "      <td>TRAV1-1</td>\n",
       "      <td>TRAJ26</td>\n",
       "      <td>ASSLGFNEQ</td>\n",
       "      <td>TRBV11-1</td>\n",
       "      <td>TRBJ2-7</td>\n",
       "      <td>SVLYYQNNV</td>\n",
       "      <td>A*02:01</td>\n",
       "    </tr>\n",
       "    <tr>\n",
       "      <th>1</th>\n",
       "      <td>AAMTNDYKL</td>\n",
       "      <td>TRAV13-1</td>\n",
       "      <td>TRAJ20</td>\n",
       "      <td>ASSIHAGLTSGNTI</td>\n",
       "      <td>TRBV19</td>\n",
       "      <td>TRBJ1-3</td>\n",
       "      <td>GILGFVFTL</td>\n",
       "      <td>A*02:01</td>\n",
       "    </tr>\n",
       "    <tr>\n",
       "      <th>2</th>\n",
       "      <td>AASGGGSQGNL</td>\n",
       "      <td>TRAV13-1</td>\n",
       "      <td>TRAJ42</td>\n",
       "      <td>ASSIFGTSLQ</td>\n",
       "      <td>TRBV19</td>\n",
       "      <td>TRBJ2-1</td>\n",
       "      <td>GILGFVFTL</td>\n",
       "      <td>A*02:01</td>\n",
       "    </tr>\n",
       "    <tr>\n",
       "      <th>3</th>\n",
       "      <td>AERIGGGSQGNL</td>\n",
       "      <td>TRAV13-2</td>\n",
       "      <td>TRAJ42</td>\n",
       "      <td>ASSIRADNEQ</td>\n",
       "      <td>TRBV19</td>\n",
       "      <td>TRBJ2-1</td>\n",
       "      <td>GILGFVFTL</td>\n",
       "      <td>A*02:01</td>\n",
       "    </tr>\n",
       "    <tr>\n",
       "      <th>4</th>\n",
       "      <td>AFMSGAGGTSYGKL</td>\n",
       "      <td>TRAV38-1</td>\n",
       "      <td>TRAJ52</td>\n",
       "      <td>ASSIGVWGY</td>\n",
       "      <td>TRBV19</td>\n",
       "      <td>TRBJ1-2</td>\n",
       "      <td>GILGFVFTL</td>\n",
       "      <td>A*02:01</td>\n",
       "    </tr>\n",
       "  </tbody>\n",
       "</table>\n",
       "</div>"
      ],
      "text/plain": [
       "       CDR3_alpha   V_alpha J_alpha       CDR3_beta    V_beta   J_beta  \\\n",
       "0      AAASGYGQNF   TRAV1-1  TRAJ26       ASSLGFNEQ  TRBV11-1  TRBJ2-7   \n",
       "1       AAMTNDYKL  TRAV13-1  TRAJ20  ASSIHAGLTSGNTI    TRBV19  TRBJ1-3   \n",
       "2     AASGGGSQGNL  TRAV13-1  TRAJ42      ASSIFGTSLQ    TRBV19  TRBJ2-1   \n",
       "3    AERIGGGSQGNL  TRAV13-2  TRAJ42      ASSIRADNEQ    TRBV19  TRBJ2-1   \n",
       "4  AFMSGAGGTSYGKL  TRAV38-1  TRAJ52       ASSIGVWGY    TRBV19  TRBJ1-2   \n",
       "\n",
       "     Epitope      MHC  \n",
       "0  SVLYYQNNV  A*02:01  \n",
       "1  GILGFVFTL  A*02:01  \n",
       "2  GILGFVFTL  A*02:01  \n",
       "3  GILGFVFTL  A*02:01  \n",
       "4  GILGFVFTL  A*02:01  "
      ]
     },
     "execution_count": 6,
     "metadata": {},
     "output_type": "execute_result"
    }
   ],
   "source": [
    "df_francis = pd.read_csv(f'{path_base}/francis.csv', index_col=0)\n",
    "df_francis = df_francis.drop_duplicates()\n",
    "df_francis = df_francis.rename(columns={'epitope': 'Epitope'})\n",
    "df_francis[col_cdr3b] = df_francis[col_cdr3b].apply(lambda x: trim_tcr(x, True))\n",
    "df_francis[col_cdr3a] = df_francis[col_cdr3a].apply(lambda x: trim_tcr(x, False))\n",
    "df_francis.head()"
   ]
  },
  {
   "cell_type": "markdown",
   "id": "12364207",
   "metadata": {},
   "source": [
    "## Databases\n",
    "- IEDB\n",
    "- VDJdb\n",
    "- McPas"
   ]
  },
  {
   "cell_type": "markdown",
   "id": "2125cc48",
   "metadata": {},
   "source": [
    "### IEDB\n",
    "\n",
    "https://www.iedb.org/\n",
    "\n",
    "- Eptiope = Any\n",
    "- Assay = T Cell, Outcome = Positive\n",
    "- MHC Restriction = Any\n",
    "- Host = Any\n",
    "- Disease = Any\n",
    "\n",
    "=> Search => Receptors => Export Results => Export to CSV file."
   ]
  },
  {
   "cell_type": "code",
   "execution_count": 7,
   "id": "c636e013",
   "metadata": {},
   "outputs": [],
   "source": [
    "rename_iedb = {\n",
    "    'Description': col_epitope,  \n",
    "\n",
    "    'Calculated V Gene': col_va,\n",
    "    'Calculated J Gene': col_ja,\n",
    "    'CDR3 Curated': col_cdr3a,\n",
    "\n",
    "    'Calculated V Gene.1' : col_vb,\n",
    "    'Calculated J Gene.1': col_jb,\n",
    "    'CDR3 Curated.1': col_cdr3b,\n",
    "    'MHC Allele Names': col_mhc,\n",
    "    'Name': col_epitope\n",
    "}"
   ]
  },
  {
   "cell_type": "code",
   "execution_count": 8,
   "id": "ac4a76d6",
   "metadata": {},
   "outputs": [
    {
     "name": "stderr",
     "output_type": "stream",
     "text": [
      "C:\\Users\\felix.drost\\Anaconda3\\lib\\site-packages\\IPython\\core\\interactiveshell.py:3165: DtypeWarning: Columns (2,10,12,13,14,15,16,17,18,19,20,21,22,23,24,29,30,35,36,41,42,43,44,45,46,47,48,49,50,51,52,53,58,59,64,65) have mixed types.Specify dtype option on import or set low_memory=False.\n",
      "  has_raised = await self.run_ast_nodes(code_ast.body, cell_name,\n"
     ]
    },
    {
     "data": {
      "text/html": [
       "<div>\n",
       "<style scoped>\n",
       "    .dataframe tbody tr th:only-of-type {\n",
       "        vertical-align: middle;\n",
       "    }\n",
       "\n",
       "    .dataframe tbody tr th {\n",
       "        vertical-align: top;\n",
       "    }\n",
       "\n",
       "    .dataframe thead th {\n",
       "        text-align: right;\n",
       "    }\n",
       "</style>\n",
       "<table border=\"1\" class=\"dataframe\">\n",
       "  <thead>\n",
       "    <tr style=\"text-align: right;\">\n",
       "      <th></th>\n",
       "      <th>CDR3_alpha</th>\n",
       "      <th>V_alpha</th>\n",
       "      <th>J_alpha</th>\n",
       "      <th>CDR3_beta</th>\n",
       "      <th>V_beta</th>\n",
       "      <th>J_beta</th>\n",
       "      <th>Epitope</th>\n",
       "      <th>MHC</th>\n",
       "    </tr>\n",
       "  </thead>\n",
       "  <tbody>\n",
       "    <tr>\n",
       "      <th>0</th>\n",
       "      <td>IVVRSSNTGKL</td>\n",
       "      <td>TRAV26-1*01</td>\n",
       "      <td>TRAJ37*01</td>\n",
       "      <td>ASSQDRDTQ</td>\n",
       "      <td>TRBV14*01</td>\n",
       "      <td>TRBJ2-3*01</td>\n",
       "      <td>VMAPRTLIL</td>\n",
       "      <td>HLA-E*01:01, HLA-E*01:03</td>\n",
       "    </tr>\n",
       "    <tr>\n",
       "      <th>1</th>\n",
       "      <td>NaN</td>\n",
       "      <td>NaN</td>\n",
       "      <td>NaN</td>\n",
       "      <td>ASSQGGDRGDPGDGY</td>\n",
       "      <td>TRBV5-6</td>\n",
       "      <td>TRBJ1-2</td>\n",
       "      <td>CINGVCWTV</td>\n",
       "      <td>HLA-A*02:01</td>\n",
       "    </tr>\n",
       "    <tr>\n",
       "      <th>2</th>\n",
       "      <td>AVTTDSWGKL</td>\n",
       "      <td>TRAV12-2*01</td>\n",
       "      <td>TRAJ24*02</td>\n",
       "      <td>ASRPGLAGGRPEQ</td>\n",
       "      <td>TRBV6-5*01</td>\n",
       "      <td>TRBJ2-7*01</td>\n",
       "      <td>LLFGYPVYV</td>\n",
       "      <td>HLA-A*02:01</td>\n",
       "    </tr>\n",
       "    <tr>\n",
       "      <th>3</th>\n",
       "      <td>AVTTDSWGKL</td>\n",
       "      <td>TRAV12-2*01</td>\n",
       "      <td>TRAJ24*02</td>\n",
       "      <td>ASRPGLMSAQPEQ</td>\n",
       "      <td>TRBV6-5*01</td>\n",
       "      <td>TRBJ2-7*01</td>\n",
       "      <td>LLFGYPVYV</td>\n",
       "      <td>HLA-A*02:01</td>\n",
       "    </tr>\n",
       "    <tr>\n",
       "      <th>4</th>\n",
       "      <td>AVRPTSGGSYIP</td>\n",
       "      <td>TRAV21*01</td>\n",
       "      <td>TRAJ6*01</td>\n",
       "      <td>ASSYVGNTGEL</td>\n",
       "      <td>TRBV6-5*01</td>\n",
       "      <td>TRBJ2-2*01</td>\n",
       "      <td>SLLMWITQC</td>\n",
       "      <td>HLA-A*02:01</td>\n",
       "    </tr>\n",
       "  </tbody>\n",
       "</table>\n",
       "</div>"
      ],
      "text/plain": [
       "     CDR3_alpha      V_alpha    J_alpha        CDR3_beta      V_beta  \\\n",
       "0   IVVRSSNTGKL  TRAV26-1*01  TRAJ37*01        ASSQDRDTQ   TRBV14*01   \n",
       "1           NaN          NaN        NaN  ASSQGGDRGDPGDGY     TRBV5-6   \n",
       "2    AVTTDSWGKL  TRAV12-2*01  TRAJ24*02    ASRPGLAGGRPEQ  TRBV6-5*01   \n",
       "3    AVTTDSWGKL  TRAV12-2*01  TRAJ24*02    ASRPGLMSAQPEQ  TRBV6-5*01   \n",
       "4  AVRPTSGGSYIP    TRAV21*01   TRAJ6*01      ASSYVGNTGEL  TRBV6-5*01   \n",
       "\n",
       "       J_beta    Epitope                       MHC  \n",
       "0  TRBJ2-3*01  VMAPRTLIL  HLA-E*01:01, HLA-E*01:03  \n",
       "1     TRBJ1-2  CINGVCWTV               HLA-A*02:01  \n",
       "2  TRBJ2-7*01  LLFGYPVYV               HLA-A*02:01  \n",
       "3  TRBJ2-7*01  LLFGYPVYV               HLA-A*02:01  \n",
       "4  TRBJ2-2*01  SLLMWITQC               HLA-A*02:01  "
      ]
     },
     "execution_count": 8,
     "metadata": {},
     "output_type": "execute_result"
    }
   ],
   "source": [
    "path_iedb = '../data/raw/receptor_table_export_1698079287.csv'\n",
    "df_iedb = pd.read_csv(path_iedb, skiprows=1)\n",
    "\n",
    "df_iedb = df_iedb.rename(columns=rename_iedb)\n",
    "df_iedb = df_iedb[required_cols]\n",
    "\n",
    "df_iedb = df_iedb[~df_iedb[col_epitope].isna()]\n",
    "df_iedb = df_iedb[~(df_iedb[col_cdr3a].isna() & df_iedb[col_cdr3b].isna())]\n",
    "\n",
    "df_iedb[col_cdr3b] = df_iedb[col_cdr3b].apply(lambda x: trim_tcr(x, True))\n",
    "df_iedb[col_cdr3a] = df_iedb[col_cdr3a].apply(lambda x: trim_tcr(x, False))\n",
    "\n",
    "df_iedb = df_iedb.drop_duplicates([col_epitope, col_cdr3a, col_cdr3b])\n",
    "df_iedb = df_iedb.reset_index(drop=True)\n",
    "\n",
    "df_iedb.to_csv('../data/processed/iedb.csv')\n",
    "df_iedb.head()"
   ]
  },
  {
   "cell_type": "code",
   "execution_count": 9,
   "id": "a2c5833b",
   "metadata": {},
   "outputs": [
    {
     "name": "stdout",
     "output_type": "stream",
     "text": [
      "Unique Epitopes:  2623\n",
      "Unique TCRs:  148878\n",
      "Total pairs:  191170\n"
     ]
    }
   ],
   "source": [
    "print('Unique Epitopes: ', len(df_iedb[col_epitope].unique()))\n",
    "print('Unique TCRs: ', len(df_iedb[col_cdr3b].unique()))\n",
    "print('Total pairs: ', len(df_iedb))"
   ]
  },
  {
   "cell_type": "markdown",
   "id": "3731b6a8",
   "metadata": {},
   "source": [
    "#### Overlap"
   ]
  },
  {
   "cell_type": "code",
   "execution_count": 10,
   "id": "42971d6b",
   "metadata": {},
   "outputs": [],
   "source": [
    "def print_overlap(df_ours, df_db):\n",
    "    print('- By column:')\n",
    "    cols = [col_cdr3a, col_cdr3b, col_epitope]\n",
    "    for col in cols:\n",
    "        df_ours_tmp = df_ours.drop_duplicates(col).copy()\n",
    "        df_db_tmp = df_db.drop_duplicates(col)\n",
    "        df_ours_tmp['in_db'] = df_ours_tmp[col].isin(df_db_tmp[col])\n",
    "        print(f'-- {col}: {df_ours_tmp[\"in_db\"].sum()} out of {len(df_ours_tmp)}')\n",
    "    \n",
    "    print('- Combinations: ')\n",
    "    for col in [col_cdr3a, col_cdr3b]:\n",
    "        df_ours_tmp = df_ours.drop_duplicates([col, col_epitope]).copy()\n",
    "        df_db_tmp = df_db.drop_duplicates([col, col_epitope])\n",
    "        df_ours_tmp[f'{col}_in_db'] = df_ours_tmp[col].isin(df_db_tmp[col])\n",
    "        df_ours_tmp['epitope_in_db'] = df_ours_tmp[col_epitope].isin(df_db_tmp[col_epitope])\n",
    "        print(f'-- Epitope-{col}: {(df_ours_tmp[f\"{col}_in_db\"] & df_ours_tmp[f\"epitope_in_db\"]).sum()} out of {len(df_ours_tmp)}')\n",
    "    \n",
    "    print('- Total: ')\n",
    "    df_ours_tmp = df_ours.drop_duplicates(cols).copy()\n",
    "    df_db_tmp = df_db.drop_duplicates(cols)\n",
    "    \n",
    "    for col in cols:\n",
    "        df_ours_tmp[f'{col}_in_db'] = df_ours_tmp[col].isin(df_db_tmp[col])\n",
    "    df_ours_tmp['total_in_db'] = df_ours_tmp[f'{cols[0]}_in_db'] & df_ours_tmp[f'{cols[1]}_in_db'] & df_ours_tmp[f'{cols[2]}_in_db']\n",
    "    print(f'-- Ep+CDR3a+CDR3b: {df_ours_tmp[f\"total_in_db\"].sum()} out of {len(df_ours_tmp)}')\n",
    "    return df_ours_tmp"
   ]
  },
  {
   "cell_type": "code",
   "execution_count": 11,
   "id": "1754c8e5",
   "metadata": {},
   "outputs": [
    {
     "name": "stdout",
     "output_type": "stream",
     "text": [
      "Francis-IEDB\n",
      "- By column:\n",
      "-- CDR3_alpha: 1843 out of 1998\n",
      "-- CDR3_beta: 2431 out of 2623\n",
      "-- Epitope: 662 out of 664\n",
      "- Combinations: \n",
      "-- Epitope-CDR3_alpha: 2218 out of 2375\n",
      "-- Epitope-CDR3_beta: 2443 out of 2636\n",
      "- Total: \n",
      "-- Ep+CDR3a+CDR3b: 2724 out of 3017\n"
     ]
    }
   ],
   "source": [
    "print('Francis-IEDB')\n",
    "_ = print_overlap(df_francis, df_iedb)\n",
    "# Added to IEDB"
   ]
  },
  {
   "cell_type": "code",
   "execution_count": 12,
   "id": "71a65390",
   "metadata": {},
   "outputs": [
    {
     "name": "stdout",
     "output_type": "stream",
     "text": [
      "Minervina-IEDB\n",
      "- By column:\n",
      "-- CDR3_alpha: 1132 out of 3891\n",
      "-- CDR3_beta: 1130 out of 4133\n",
      "-- Epitope: 17 out of 17\n",
      "- Combinations: \n",
      "-- Epitope-CDR3_alpha: 1192 out of 4015\n",
      "-- Epitope-CDR3_beta: 1151 out of 4207\n",
      "- Total: \n",
      "-- Ep+CDR3a+CDR3b: 931 out of 4505\n"
     ]
    }
   ],
   "source": [
    "print('Minervina-IEDB')\n",
    "_ = overlap_minervina = print_overlap(df_minervina, df_iedb)\n",
    "# Added to IEDB"
   ]
  },
  {
   "cell_type": "code",
   "execution_count": 13,
   "id": "297a6b8a",
   "metadata": {},
   "outputs": [
    {
     "name": "stdout",
     "output_type": "stream",
     "text": [
      "Dorigatti-IEDB\n",
      "- By column:\n",
      "-- CDR3_alpha: 1 out of 6\n",
      "-- CDR3_beta: 0 out of 6\n",
      "-- Epitope: 0 out of 134\n",
      "- Combinations: \n",
      "-- Epitope-CDR3_alpha: 0 out of 804\n",
      "-- Epitope-CDR3_beta: 0 out of 804\n",
      "- Total: \n",
      "-- Ep+CDR3a+CDR3b: 0 out of 804\n"
     ]
    }
   ],
   "source": [
    "print('Dorigatti-IEDB')\n",
    "_ = print_overlap(df_dorigatti, df_iedb)"
   ]
  },
  {
   "cell_type": "markdown",
   "id": "6edc92dd",
   "metadata": {},
   "source": [
    "## VDJdb\n",
    "\n",
    "https://github.com/antigenomics/vdjdb-db/releases/download/2022-03-30/vdjdb-2022-03-30.zip\n",
    "\n"
   ]
  },
  {
   "cell_type": "code",
   "execution_count": 14,
   "id": "974a4419",
   "metadata": {},
   "outputs": [],
   "source": [
    "rename_vdjdb = {\n",
    "    'antigen.epitope': col_epitope, \n",
    "\n",
    "    'v.segm_a': col_va,\n",
    "    'j.segm_a': col_ja,\n",
    "    'cdr3_a': col_cdr3a,\n",
    "\n",
    "    'v.segm_b' : col_vb,\n",
    "    'j.segm_b': col_jb,\n",
    "    'cdr3_b': col_cdr3b,\n",
    "}"
   ]
  },
  {
   "cell_type": "code",
   "execution_count": 15,
   "id": "4f090c37",
   "metadata": {},
   "outputs": [],
   "source": [
    "def assign_unique_index(x):\n",
    "    idcs = []\n",
    "    next_idx = x.max() + 1\n",
    "    for i in x:\n",
    "        if i != 0:\n",
    "            idcs.append(i)\n",
    "        else:\n",
    "            idcs.append(next_idx)\n",
    "            next_idx += 1\n",
    "    return idcs\n"
   ]
  },
  {
   "cell_type": "code",
   "execution_count": 16,
   "id": "0a7a1072",
   "metadata": {},
   "outputs": [
    {
     "data": {
      "text/html": [
       "<div>\n",
       "<style scoped>\n",
       "    .dataframe tbody tr th:only-of-type {\n",
       "        vertical-align: middle;\n",
       "    }\n",
       "\n",
       "    .dataframe tbody tr th {\n",
       "        vertical-align: top;\n",
       "    }\n",
       "\n",
       "    .dataframe thead th {\n",
       "        text-align: right;\n",
       "    }\n",
       "</style>\n",
       "<table border=\"1\" class=\"dataframe\">\n",
       "  <thead>\n",
       "    <tr style=\"text-align: right;\">\n",
       "      <th></th>\n",
       "      <th>CDR3_alpha</th>\n",
       "      <th>V_alpha</th>\n",
       "      <th>J_alpha</th>\n",
       "      <th>CDR3_beta</th>\n",
       "      <th>V_beta</th>\n",
       "      <th>J_beta</th>\n",
       "      <th>Epitope</th>\n",
       "      <th>MHC</th>\n",
       "    </tr>\n",
       "  </thead>\n",
       "  <tbody>\n",
       "    <tr>\n",
       "      <th>0</th>\n",
       "      <td>IVRAPGRADM</td>\n",
       "      <td>TRAV26-1*01</td>\n",
       "      <td>TRAJ43*01</td>\n",
       "      <td>ASSYLPGQGDHYSNQPQ</td>\n",
       "      <td>TRBV13*01</td>\n",
       "      <td>TRBJ1-5*01</td>\n",
       "      <td>FLKEKGGL</td>\n",
       "      <td>NaN</td>\n",
       "    </tr>\n",
       "    <tr>\n",
       "      <th>1</th>\n",
       "      <td>AVPSGAGSYQL</td>\n",
       "      <td>TRAV20*01</td>\n",
       "      <td>TRAJ28*01</td>\n",
       "      <td>ASSFEPGQGFYSNQPQ</td>\n",
       "      <td>TRBV13*01</td>\n",
       "      <td>TRBJ1-5*01</td>\n",
       "      <td>FLKEKGGL</td>\n",
       "      <td>NaN</td>\n",
       "    </tr>\n",
       "    <tr>\n",
       "      <th>2</th>\n",
       "      <td>AVKASGSRL</td>\n",
       "      <td>TRAV2*01</td>\n",
       "      <td>NaN</td>\n",
       "      <td>ASSYEPGQVSHYSNQPQ</td>\n",
       "      <td>TRBV13*01</td>\n",
       "      <td>TRBJ1-5*01</td>\n",
       "      <td>FLKEKGGL</td>\n",
       "      <td>NaN</td>\n",
       "    </tr>\n",
       "    <tr>\n",
       "      <th>3</th>\n",
       "      <td>AYRPPGTYKY</td>\n",
       "      <td>TRAV38-2/DV8*01</td>\n",
       "      <td>TRAJ40*01</td>\n",
       "      <td>ASSALASLNEQ</td>\n",
       "      <td>TRBV14*01</td>\n",
       "      <td>TRBJ2-1*01</td>\n",
       "      <td>FLKEKGGL</td>\n",
       "      <td>NaN</td>\n",
       "    </tr>\n",
       "    <tr>\n",
       "      <th>4</th>\n",
       "      <td>IVRAPGRADM</td>\n",
       "      <td>TRAV26-1*01</td>\n",
       "      <td>TRAJ43*01</td>\n",
       "      <td>ASSYLPGQGDHYSNQPQ</td>\n",
       "      <td>TRBV13*01</td>\n",
       "      <td>TRBJ1-5*01</td>\n",
       "      <td>FLKEQGGL</td>\n",
       "      <td>NaN</td>\n",
       "    </tr>\n",
       "  </tbody>\n",
       "</table>\n",
       "</div>"
      ],
      "text/plain": [
       "    CDR3_alpha          V_alpha    J_alpha          CDR3_beta     V_beta  \\\n",
       "0   IVRAPGRADM      TRAV26-1*01  TRAJ43*01  ASSYLPGQGDHYSNQPQ  TRBV13*01   \n",
       "1  AVPSGAGSYQL        TRAV20*01  TRAJ28*01   ASSFEPGQGFYSNQPQ  TRBV13*01   \n",
       "2    AVKASGSRL         TRAV2*01        NaN  ASSYEPGQVSHYSNQPQ  TRBV13*01   \n",
       "3   AYRPPGTYKY  TRAV38-2/DV8*01  TRAJ40*01        ASSALASLNEQ  TRBV14*01   \n",
       "4   IVRAPGRADM      TRAV26-1*01  TRAJ43*01  ASSYLPGQGDHYSNQPQ  TRBV13*01   \n",
       "\n",
       "       J_beta   Epitope  MHC  \n",
       "0  TRBJ1-5*01  FLKEKGGL  NaN  \n",
       "1  TRBJ1-5*01  FLKEKGGL  NaN  \n",
       "2  TRBJ1-5*01  FLKEKGGL  NaN  \n",
       "3  TRBJ2-1*01  FLKEKGGL  NaN  \n",
       "4  TRBJ1-5*01  FLKEQGGL  NaN  "
      ]
     },
     "execution_count": 16,
     "metadata": {},
     "output_type": "execute_result"
    }
   ],
   "source": [
    "path_vdjdb = '../data/raw/vdjdb-2023-06-01/vdjdb.txt'\n",
    "df_vdjdb = pd.read_csv(path_vdjdb, sep='\\t')\n",
    "\n",
    "df_vdjdb['complex.id'] = assign_unique_index(df_vdjdb['complex.id'])\n",
    "df_vdjdb = df_vdjdb.set_index('complex.id')\n",
    "\n",
    "df_vdjdb_a = df_vdjdb[df_vdjdb['gene']=='TRA'][['cdr3', 'v.segm', 'j.segm']]\n",
    "df_vdjdb_a.columns = [f'{c}_a' if c in ['cdr3', 'v.segm', 'j.segm'] else c for c in df_vdjdb_a.columns]\n",
    "\n",
    "df_vdjdb_b = df_vdjdb[df_vdjdb['gene']=='TRB'][['cdr3', 'v.segm', 'j.segm']]\n",
    "df_vdjdb_b.columns = [f'{c}_b' if c in ['cdr3', 'v.segm', 'j.segm'] else c for c in df_vdjdb_b.columns]\n",
    "\n",
    "df_vdjdb = df_vdjdb[~df_vdjdb.index.duplicated(keep='first')]\n",
    "df_vdjdb = pd.concat([df_vdjdb, df_vdjdb_a, df_vdjdb_b], axis=1)\n",
    "\n",
    "df_vdjdb = df_vdjdb.rename(columns=rename_vdjdb)\n",
    "df_vdjdb['MHC'] = np.nan\n",
    "df_vdjdb = df_vdjdb[required_cols]\n",
    "\n",
    "df_vdjdb[col_cdr3b] = df_vdjdb[col_cdr3b].apply(lambda x: trim_tcr(x, True))\n",
    "df_vdjdb[col_cdr3a] = df_vdjdb[col_cdr3a].apply(lambda x: trim_tcr(x, False))\n",
    "\n",
    "df_vdjdb = df_vdjdb.reset_index(drop=True)\n",
    "\n",
    "df_vdjdb.to_csv('../data/processed/vdjdb.csv')\n",
    "df_vdjdb.head()"
   ]
  },
  {
   "cell_type": "code",
   "execution_count": 17,
   "id": "264341eb",
   "metadata": {},
   "outputs": [
    {
     "name": "stdout",
     "output_type": "stream",
     "text": [
      "Unique Epitopes:  1169\n",
      "Unique TCRs:  41727\n",
      "Total pairs:  62177\n"
     ]
    }
   ],
   "source": [
    "print('Unique Epitopes: ', len(df_vdjdb[col_epitope].unique()))\n",
    "print('Unique TCRs: ', len(df_vdjdb[col_cdr3b].unique()))\n",
    "print('Total pairs: ', len(df_vdjdb))"
   ]
  },
  {
   "cell_type": "markdown",
   "id": "9f613c75",
   "metadata": {},
   "source": [
    "#### Overlap"
   ]
  },
  {
   "cell_type": "code",
   "execution_count": 18,
   "id": "987427ce",
   "metadata": {},
   "outputs": [
    {
     "name": "stdout",
     "output_type": "stream",
     "text": [
      "Dorigatti-VDJdb\n",
      "- By column:\n",
      "-- CDR3_alpha: 1 out of 6\n",
      "-- CDR3_beta: 0 out of 6\n",
      "-- Epitope: 0 out of 134\n",
      "- Combinations: \n",
      "-- Epitope-CDR3_alpha: 0 out of 804\n",
      "-- Epitope-CDR3_beta: 0 out of 804\n",
      "- Total: \n",
      "-- Ep+CDR3a+CDR3b: 0 out of 804\n"
     ]
    }
   ],
   "source": [
    "print('Dorigatti-VDJdb')\n",
    "_ = print_overlap(df_dorigatti, df_vdjdb)"
   ]
  },
  {
   "cell_type": "code",
   "execution_count": 19,
   "id": "2fc1731a",
   "metadata": {},
   "outputs": [
    {
     "name": "stdout",
     "output_type": "stream",
     "text": [
      "francis-VDJdb\n",
      "- By column:\n",
      "-- CDR3_alpha: 1820 out of 1998\n",
      "-- CDR3_beta: 2483 out of 2623\n",
      "-- Epitope: 654 out of 664\n",
      "- Combinations: \n",
      "-- Epitope-CDR3_alpha: 2179 out of 2375\n",
      "-- Epitope-CDR3_beta: 2492 out of 2636\n",
      "- Total: \n",
      "-- Ep+CDR3a+CDR3b: 2738 out of 3017\n"
     ]
    }
   ],
   "source": [
    "print('francis-VDJdb')\n",
    "_ = print_overlap(df_francis, df_vdjdb)"
   ]
  },
  {
   "cell_type": "code",
   "execution_count": 20,
   "id": "baa47988",
   "metadata": {},
   "outputs": [
    {
     "name": "stdout",
     "output_type": "stream",
     "text": [
      "Minervina-VDJdb\n",
      "- By column:\n",
      "-- CDR3_alpha: 1100 out of 3891\n",
      "-- CDR3_beta: 836 out of 4133\n",
      "-- Epitope: 17 out of 17\n",
      "- Combinations: \n",
      "-- Epitope-CDR3_alpha: 1159 out of 4015\n",
      "-- Epitope-CDR3_beta: 853 out of 4207\n",
      "- Total: \n",
      "-- Ep+CDR3a+CDR3b: 833 out of 4505\n"
     ]
    }
   ],
   "source": [
    "print('Minervina-VDJdb')\n",
    "_ = print_overlap(df_minervina, df_vdjdb)"
   ]
  },
  {
   "cell_type": "markdown",
   "id": "b7e11da2",
   "metadata": {},
   "source": [
    "## McPAS-TCR\n",
    "http://friedmanlab.weizmann.ac.il/McPAS-TCR/\n",
    "\n",
    "\"Download the complete database\" => downloaded 23.10.2023"
   ]
  },
  {
   "cell_type": "code",
   "execution_count": 21,
   "id": "f5be0da7",
   "metadata": {},
   "outputs": [],
   "source": [
    "rename_mcpas = {\n",
    "    'Epitope.peptide': col_epitope, \n",
    "\n",
    "    'TRAV': col_va,\n",
    "    'TRAJ': col_ja,\n",
    "    'CDR3.alpha.aa': col_cdr3a,\n",
    "\n",
    "    'TRBV' : col_vb,\n",
    "    'TRBJ': col_jb,\n",
    "    'CDR3.beta.aa': col_cdr3b,\n",
    "}"
   ]
  },
  {
   "cell_type": "code",
   "execution_count": 22,
   "id": "d1778bc5",
   "metadata": {},
   "outputs": [
    {
     "name": "stderr",
     "output_type": "stream",
     "text": [
      "C:\\Users\\felix.drost\\Anaconda3\\lib\\site-packages\\IPython\\core\\interactiveshell.py:3165: DtypeWarning: Columns (13,17,24,26,28) have mixed types.Specify dtype option on import or set low_memory=False.\n",
      "  has_raised = await self.run_ast_nodes(code_ast.body, cell_name,\n"
     ]
    },
    {
     "data": {
      "text/html": [
       "<div>\n",
       "<style scoped>\n",
       "    .dataframe tbody tr th:only-of-type {\n",
       "        vertical-align: middle;\n",
       "    }\n",
       "\n",
       "    .dataframe tbody tr th {\n",
       "        vertical-align: top;\n",
       "    }\n",
       "\n",
       "    .dataframe thead th {\n",
       "        text-align: right;\n",
       "    }\n",
       "</style>\n",
       "<table border=\"1\" class=\"dataframe\">\n",
       "  <thead>\n",
       "    <tr style=\"text-align: right;\">\n",
       "      <th></th>\n",
       "      <th>Epitope</th>\n",
       "      <th>V_alpha</th>\n",
       "      <th>J_alpha</th>\n",
       "      <th>CDR3_alpha</th>\n",
       "      <th>V_beta</th>\n",
       "      <th>J_beta</th>\n",
       "      <th>CDR3_beta</th>\n",
       "    </tr>\n",
       "  </thead>\n",
       "  <tbody>\n",
       "    <tr>\n",
       "      <th>0</th>\n",
       "      <td>IKAVYNFATCG</td>\n",
       "      <td>NaN</td>\n",
       "      <td>NaN</td>\n",
       "      <td>NaN</td>\n",
       "      <td>TRBV8-1</td>\n",
       "      <td>TRBJ1-1</td>\n",
       "      <td>ASSDAGANTE</td>\n",
       "    </tr>\n",
       "    <tr>\n",
       "      <th>1</th>\n",
       "      <td>IKAVYNFATCG</td>\n",
       "      <td>NaN</td>\n",
       "      <td>NaN</td>\n",
       "      <td>NaN</td>\n",
       "      <td>TRBV8-1</td>\n",
       "      <td>TRBJ2-1</td>\n",
       "      <td>ASSDAGAYAE</td>\n",
       "    </tr>\n",
       "    <tr>\n",
       "      <th>2</th>\n",
       "      <td>IKAVYNFATCG</td>\n",
       "      <td>NaN</td>\n",
       "      <td>NaN</td>\n",
       "      <td>NaN</td>\n",
       "      <td>TRBV8-3</td>\n",
       "      <td>TRBJ1-1</td>\n",
       "      <td>ASSDAGGAAE</td>\n",
       "    </tr>\n",
       "    <tr>\n",
       "      <th>3</th>\n",
       "      <td>IKAVYNFATCG</td>\n",
       "      <td>NaN</td>\n",
       "      <td>NaN</td>\n",
       "      <td>NaN</td>\n",
       "      <td>TRBV8-1</td>\n",
       "      <td>TRBJ1-6</td>\n",
       "      <td>ASSDAGHSPL</td>\n",
       "    </tr>\n",
       "    <tr>\n",
       "      <th>4</th>\n",
       "      <td>IKAVYNFATCG</td>\n",
       "      <td>NaN</td>\n",
       "      <td>NaN</td>\n",
       "      <td>NaN</td>\n",
       "      <td>TRBV8-3</td>\n",
       "      <td>TRBJ2-6</td>\n",
       "      <td>ASSDAWGGAEQ</td>\n",
       "    </tr>\n",
       "  </tbody>\n",
       "</table>\n",
       "</div>"
      ],
      "text/plain": [
       "       Epitope V_alpha J_alpha CDR3_alpha   V_beta   J_beta    CDR3_beta\n",
       "0  IKAVYNFATCG     NaN     NaN        NaN  TRBV8-1  TRBJ1-1   ASSDAGANTE\n",
       "1  IKAVYNFATCG     NaN     NaN        NaN  TRBV8-1  TRBJ2-1   ASSDAGAYAE\n",
       "2  IKAVYNFATCG     NaN     NaN        NaN  TRBV8-3  TRBJ1-1   ASSDAGGAAE\n",
       "3  IKAVYNFATCG     NaN     NaN        NaN  TRBV8-1  TRBJ1-6   ASSDAGHSPL\n",
       "4  IKAVYNFATCG     NaN     NaN        NaN  TRBV8-3  TRBJ2-6  ASSDAWGGAEQ"
      ]
     },
     "execution_count": 22,
     "metadata": {},
     "output_type": "execute_result"
    }
   ],
   "source": [
    "path_mcpas = '../data/raw/McPAS-TCR.csv'\n",
    "df_mcpas = pd.read_csv(path_mcpas, encoding = \"ISO-8859-1\")\n",
    "df_mcpas = df_mcpas[rename_mcpas.keys()]\n",
    "df_mcpas = df_mcpas.rename(columns=rename_mcpas)\n",
    "\n",
    "df_mcpas[col_cdr3b] = df_mcpas[col_cdr3b].apply(lambda x: trim_tcr(x, True))\n",
    "df_mcpas[col_cdr3a] = df_mcpas[col_cdr3a].apply(lambda x: trim_tcr(x, False))\n",
    "\n",
    "df_mcpas = df_mcpas.reset_index(drop=True)\n",
    "\n",
    "df_mcpas.to_csv('../data/processed/mcpas_tcr.csv')\n",
    "df_mcpas.head()"
   ]
  },
  {
   "cell_type": "code",
   "execution_count": 23,
   "id": "e05e8108",
   "metadata": {},
   "outputs": [
    {
     "name": "stdout",
     "output_type": "stream",
     "text": [
      "Unique Epitopes:  380\n",
      "Unique TCRs:  31201\n",
      "Total pairs:  39985\n"
     ]
    }
   ],
   "source": [
    "print('Unique Epitopes: ', len(df_mcpas[col_epitope].unique()))\n",
    "print('Unique TCRs: ', len(df_mcpas[col_cdr3b].unique()))\n",
    "print('Total pairs: ', len(df_mcpas))"
   ]
  },
  {
   "cell_type": "markdown",
   "id": "d36a6cc2",
   "metadata": {},
   "source": [
    "#### Overlap"
   ]
  },
  {
   "cell_type": "code",
   "execution_count": 24,
   "id": "39f3b1f1",
   "metadata": {},
   "outputs": [
    {
     "name": "stdout",
     "output_type": "stream",
     "text": [
      "Dorigatti-McPas\n",
      "- By column:\n",
      "-- CDR3_alpha: 0 out of 6\n",
      "-- CDR3_beta: 0 out of 6\n",
      "-- Epitope: 0 out of 134\n",
      "- Combinations: \n",
      "-- Epitope-CDR3_alpha: 0 out of 804\n",
      "-- Epitope-CDR3_beta: 0 out of 804\n",
      "- Total: \n",
      "-- Ep+CDR3a+CDR3b: 0 out of 804\n"
     ]
    }
   ],
   "source": [
    "print('Dorigatti-McPas')\n",
    "_ = print_overlap(df_dorigatti, df_mcpas)"
   ]
  },
  {
   "cell_type": "code",
   "execution_count": 25,
   "id": "5af06f11",
   "metadata": {},
   "outputs": [
    {
     "name": "stdout",
     "output_type": "stream",
     "text": [
      "francis-McPas\n",
      "- By column:\n",
      "-- CDR3_alpha: 168 out of 1998\n",
      "-- CDR3_beta: 131 out of 2623\n",
      "-- Epitope: 10 out of 664\n",
      "- Combinations: \n",
      "-- Epitope-CDR3_alpha: 107 out of 2375\n",
      "-- Epitope-CDR3_beta: 91 out of 2636\n",
      "- Total: \n",
      "-- Ep+CDR3a+CDR3b: 134 out of 3017\n"
     ]
    }
   ],
   "source": [
    "print('francis-McPas')\n",
    "_ = print_overlap(df_francis, df_mcpas)"
   ]
  },
  {
   "cell_type": "code",
   "execution_count": 26,
   "id": "493b53b1",
   "metadata": {},
   "outputs": [
    {
     "name": "stdout",
     "output_type": "stream",
     "text": [
      "Minervina-McPas\n",
      "- By column:\n",
      "-- CDR3_alpha: 190 out of 3891\n",
      "-- CDR3_beta: 75 out of 4133\n",
      "-- Epitope: 0 out of 17\n",
      "- Combinations: \n",
      "-- Epitope-CDR3_alpha: 0 out of 4015\n",
      "-- Epitope-CDR3_beta: 0 out of 4207\n",
      "- Total: \n",
      "-- Ep+CDR3a+CDR3b: 0 out of 4505\n"
     ]
    }
   ],
   "source": [
    "print('Minervina-McPas')\n",
    "_ = print_overlap(df_minervina, df_mcpas)"
   ]
  },
  {
   "cell_type": "code",
   "execution_count": null,
   "id": "b4308dcb",
   "metadata": {},
   "outputs": [],
   "source": []
  }
 ],
 "metadata": {
  "kernelspec": {
   "display_name": "benchmark",
   "language": "python",
   "name": "benchmark"
  },
  "language_info": {
   "codemirror_mode": {
    "name": "ipython",
    "version": 3
   },
   "file_extension": ".py",
   "mimetype": "text/x-python",
   "name": "python",
   "nbconvert_exporter": "python",
   "pygments_lexer": "ipython3",
   "version": "3.8.8"
  }
 },
 "nbformat": 4,
 "nbformat_minor": 5
}
