{
 "cells": [
  {
   "cell_type": "markdown",
   "id": "22fa9c9d-8294-45a6-8787-3a958e03dbe9",
   "metadata": {},
   "source": [
    "# How to add a new method to this benchmark.\n",
    "\n",
    "In this notebook, we will explain how to test your own method on this benchmark.\n",
    "You can either:\n",
    "- implement a prediction function following the interfaces of the benchmark\n",
    "- or implement it into ePytope-TCR and use the wrapper function provided here."
   ]
  },
  {
   "cell_type": "markdown",
   "id": "523f3b3c-3193-4188-ade9-98630e0e09b3",
   "metadata": {},
   "source": [
    "## 01. Predictor class"
   ]
  },
  {
   "cell_type": "code",
   "execution_count": 1,
   "id": "ee1c2dd4-603d-4072-abd7-080ddd7704f1",
   "metadata": {},
   "outputs": [],
   "source": [
    "import numpy as np\n",
    "\n",
    "def prediction_func(df_input, **kwargs):\n",
    "    \"\"\"\n",
    "    This function needs to serve as a wrapper function between your model and the test. \n",
    "    :param df_input: pandas.DataFrame with columns:\n",
    "        - CDR3_alpha, CDR3_beta: CDR3 amino acid region of the alpha and beta chains starting with 'C' and ending with 'F' or 'W' (e.g. 'CASSMRSAVEQYF')\n",
    "        - V_alpha, V_beta, J_alpha, J_beta: Categorical V,J-gene annotation (e.g. TRBJ2-7*01) \n",
    "        - Epitope: amino acid sequence of the epitope (e.g. 'GILGFVFTL')\n",
    "        - MHC: Categorical annotation of the MHC type \n",
    "        - clone_id: identifier ID of this clonotype without any predictive meaning\n",
    "        - dataset: name of the dataset without any predictive meaning\n",
    "        - Label: 1 for binder, 0 for none-binder, DO NOT USE THIS LABEL IN ANY PART OF YOUR MODEL\n",
    "       Note: while the DataFrame provides all these inputs, feel free to use only parts of them for your model \n",
    "    :param kwargs: Any additional parameters (e.g. different model choices) can be passed as keyword arguments here at your choosing, which can be passed through the config (see below)\n",
    "\n",
    "    :return: pandas.DataFrame of columns:\n",
    "        - the same as df_input\n",
    "        - Score: numeric prediction score, where higher values indicate a higher probability of binding for this row (TCR-Epitope pair)\n",
    "    \"\"\"\n",
    "    # Let's print the input to the function to get an example later\n",
    "    print(df_input.columns)\n",
    "    print(df_input.head(5))\n",
    "    print(kwargs)\n",
    "\n",
    "    # The output should follow the same format as the input but additionally contains the prediction score\n",
    "    df_output = df_input.copy()\n",
    "\n",
    "    # Here you need to plug in your model including preprocessing (e.g. reconstruct full TCR sequence, prune leading 'C' from CDR3, rename the columns, ...)\n",
    "    # For the dummy model, we simply assign a random score without any relationship to the input\n",
    "    np.random.seed(0)  # Seed your model for reproducability\n",
    "    df_output[\"Score\"] = np.random.rand(len(df_output))\n",
    "\n",
    "    return df_output"
   ]
  },
  {
   "cell_type": "code",
   "execution_count": 2,
   "id": "4c39db5a-c9a9-4167-a91c-1fcb5cab3a10",
   "metadata": {},
   "outputs": [],
   "source": [
    "# This name is needed to compile the results table later\n",
    "predictor_name = 'my_dummy_predictor'"
   ]
  },
  {
   "cell_type": "markdown",
   "id": "7365c766-a23c-44f1-9d87-058882078b1e",
   "metadata": {},
   "source": [
    "Let's test this function on a dataset:\n",
    "- viral\n",
    "- mutation\n",
    "- mutation-mouse"
   ]
  },
  {
   "cell_type": "code",
   "execution_count": 3,
   "id": "50097d17-b4d2-4abb-bb03-46a8e3b47aa4",
   "metadata": {},
   "outputs": [],
   "source": [
    "from tcr_benchmark.eval.allTests import NAME_2_TEST\n",
    "from tcr_benchmark.pp.datasets import download_datasets"
   ]
  },
  {
   "cell_type": "code",
   "execution_count": 4,
   "id": "d959887f-401c-4689-bf86-b100ca8cfd9d",
   "metadata": {},
   "outputs": [
    {
     "name": "stderr",
     "output_type": "stream",
     "text": [
      "100%|██████████| 3/3 [00:00<00:00, 7367.04it/s]\n"
     ]
    }
   ],
   "source": [
    "dataset = 'viral'\n",
    "download_datasets(dataset)\n",
    "test = NAME_2_TEST[dataset](None)"
   ]
  },
  {
   "cell_type": "code",
   "execution_count": 5,
   "id": "4a9ca0a2-4deb-4e04-bcfa-3529be1f2068",
   "metadata": {},
   "outputs": [
    {
     "name": "stdout",
     "output_type": "stream",
     "text": [
      "Index(['CDR3_alpha', 'CDR3_beta', 'V_alpha', 'V_beta', 'J_alpha', 'J_beta',\n",
      "       'Epitope', 'clone_id', 'MHC', 'dataset', 'Label'],\n",
      "      dtype='object')\n",
      "          CDR3_alpha       CDR3_beta     V_alpha      V_beta    J_alpha  \\\n",
      "0    CAVNAPTGTASKLTF   CASSMRSAVEQYF  TRAV8-1*01   TRBV19*01  TRAJ44*01   \n",
      "1       CAVEGSQGNLIF   CASSMRSAVEQYF    TRAV2*01   TRBV19*01  TRAJ42*01   \n",
      "2    CAGWPGSSNTGKLIF   CASSIRSLAEQYF   TRAV25*01   TRBV19*01  TRAJ37*01   \n",
      "3  CAVRDAILTGGGNKLTF  CASRRQGITETQYF    TRAV3*01   TRBV27*01  TRAJ10*01   \n",
      "4         CATEDNDMRF     CASSFSDTQYF   TRAV17*01  TRBV5-4*01  TRAJ43*01   \n",
      "\n",
      "       J_beta    Epitope  clone_id          MHC dataset  Label  \n",
      "0  TRBJ2-7*01  GILGFVFTL      25.0  HLA-A*02:01   viral      1  \n",
      "1  TRBJ2-7*01  GILGFVFTL      27.0  HLA-A*02:01   viral      1  \n",
      "2  TRBJ2-7*01  GILGFVFTL      34.0  HLA-A*02:01   viral      1  \n",
      "3  TRBJ2-5*01  GILGFVFTL      35.0  HLA-A*02:01   viral      1  \n",
      "4  TRBJ2-3*01  GILGFVFTL      39.0  HLA-A*02:01   viral      0  \n",
      "{'dummyModelChoice': 'Use the super model'}\n"
     ]
    }
   ],
   "source": [
    "config = {'dummyModelChoice': 'Use the super model'}\n",
    "results_dataset = test.run_tests(prediction_func, predictor_name, config)"
   ]
  },
  {
   "cell_type": "markdown",
   "id": "847e729e-a1d4-4d91-aafc-c619b4f79f8b",
   "metadata": {},
   "source": [
    "Here, we see the input data passed to our `prediction_func`. First, columns of the DateFrame, then first five rows, and last the configuration passed through the model."
   ]
  },
  {
   "cell_type": "code",
   "execution_count": 6,
   "id": "7f17aa24-f853-47ba-b4fe-24f92ae57449",
   "metadata": {},
   "outputs": [
    {
     "data": {
      "text/html": [
       "<div>\n",
       "<style scoped>\n",
       "    .dataframe tbody tr th:only-of-type {\n",
       "        vertical-align: middle;\n",
       "    }\n",
       "\n",
       "    .dataframe tbody tr th {\n",
       "        vertical-align: top;\n",
       "    }\n",
       "\n",
       "    .dataframe thead th {\n",
       "        text-align: right;\n",
       "    }\n",
       "</style>\n",
       "<table border=\"1\" class=\"dataframe\">\n",
       "  <thead>\n",
       "    <tr style=\"text-align: right;\">\n",
       "      <th></th>\n",
       "      <th>Method</th>\n",
       "      <th>Dataset</th>\n",
       "      <th>Group</th>\n",
       "      <th>Support</th>\n",
       "      <th>Metric_Type</th>\n",
       "      <th>Metric</th>\n",
       "      <th>Value</th>\n",
       "    </tr>\n",
       "  </thead>\n",
       "  <tbody>\n",
       "    <tr>\n",
       "      <th>0</th>\n",
       "      <td>my_dummy_predictor</td>\n",
       "      <td>Viral</td>\n",
       "      <td>full_data</td>\n",
       "      <td>638</td>\n",
       "      <td>MPS</td>\n",
       "      <td>AverageRank</td>\n",
       "      <td>7.565831</td>\n",
       "    </tr>\n",
       "    <tr>\n",
       "      <th>1</th>\n",
       "      <td>my_dummy_predictor</td>\n",
       "      <td>Viral</td>\n",
       "      <td>full_data</td>\n",
       "      <td>638</td>\n",
       "      <td>MPS</td>\n",
       "      <td>R@1</td>\n",
       "      <td>0.051724</td>\n",
       "    </tr>\n",
       "    <tr>\n",
       "      <th>2</th>\n",
       "      <td>my_dummy_predictor</td>\n",
       "      <td>Viral</td>\n",
       "      <td>full_data</td>\n",
       "      <td>638</td>\n",
       "      <td>MPS</td>\n",
       "      <td>R@3</td>\n",
       "      <td>0.189655</td>\n",
       "    </tr>\n",
       "    <tr>\n",
       "      <th>3</th>\n",
       "      <td>my_dummy_predictor</td>\n",
       "      <td>Viral</td>\n",
       "      <td>full_data</td>\n",
       "      <td>638</td>\n",
       "      <td>MPS</td>\n",
       "      <td>R@5</td>\n",
       "      <td>0.354232</td>\n",
       "    </tr>\n",
       "    <tr>\n",
       "      <th>4</th>\n",
       "      <td>my_dummy_predictor</td>\n",
       "      <td>Viral</td>\n",
       "      <td>full_data</td>\n",
       "      <td>638</td>\n",
       "      <td>MPS</td>\n",
       "      <td>R@8</td>\n",
       "      <td>0.570533</td>\n",
       "    </tr>\n",
       "  </tbody>\n",
       "</table>\n",
       "</div>"
      ],
      "text/plain": [
       "               Method Dataset      Group  Support Metric_Type       Metric  \\\n",
       "0  my_dummy_predictor   Viral  full_data      638         MPS  AverageRank   \n",
       "1  my_dummy_predictor   Viral  full_data      638         MPS          R@1   \n",
       "2  my_dummy_predictor   Viral  full_data      638         MPS          R@3   \n",
       "3  my_dummy_predictor   Viral  full_data      638         MPS          R@5   \n",
       "4  my_dummy_predictor   Viral  full_data      638         MPS          R@8   \n",
       "\n",
       "      Value  \n",
       "0  7.565831  \n",
       "1  0.051724  \n",
       "2  0.189655  \n",
       "3  0.354232  \n",
       "4  0.570533  "
      ]
     },
     "execution_count": 6,
     "metadata": {},
     "output_type": "execute_result"
    }
   ],
   "source": [
    "results_dataset.head()"
   ]
  },
  {
   "cell_type": "code",
   "execution_count": 7,
   "id": "103661ca-29d1-411f-9d56-3a32f643a859",
   "metadata": {},
   "outputs": [
    {
     "data": {
      "text/html": [
       "<div>\n",
       "<style scoped>\n",
       "    .dataframe tbody tr th:only-of-type {\n",
       "        vertical-align: middle;\n",
       "    }\n",
       "\n",
       "    .dataframe tbody tr th {\n",
       "        vertical-align: top;\n",
       "    }\n",
       "\n",
       "    .dataframe thead th {\n",
       "        text-align: right;\n",
       "    }\n",
       "</style>\n",
       "<table border=\"1\" class=\"dataframe\">\n",
       "  <thead>\n",
       "    <tr style=\"text-align: right;\">\n",
       "      <th></th>\n",
       "      <th>Method</th>\n",
       "      <th>Dataset</th>\n",
       "      <th>Group</th>\n",
       "      <th>Support</th>\n",
       "      <th>Metric_Type</th>\n",
       "      <th>Metric</th>\n",
       "      <th>Value</th>\n",
       "    </tr>\n",
       "  </thead>\n",
       "  <tbody>\n",
       "    <tr>\n",
       "      <th>75</th>\n",
       "      <td>my_dummy_predictor</td>\n",
       "      <td>Viral</td>\n",
       "      <td>full_data</td>\n",
       "      <td>8932</td>\n",
       "      <td>TTP</td>\n",
       "      <td>AUC</td>\n",
       "      <td>0.493067</td>\n",
       "    </tr>\n",
       "  </tbody>\n",
       "</table>\n",
       "</div>"
      ],
      "text/plain": [
       "                Method Dataset      Group  Support Metric_Type Metric  \\\n",
       "75  my_dummy_predictor   Viral  full_data     8932         TTP    AUC   \n",
       "\n",
       "       Value  \n",
       "75  0.493067  "
      ]
     },
     "execution_count": 7,
     "metadata": {},
     "output_type": "execute_result"
    }
   ],
   "source": [
    "results_dataset[(results_dataset['Metric']=='AUC')\n",
    "                & (results_dataset['Group']=='full_data')    \n",
    "            ]"
   ]
  },
  {
   "cell_type": "markdown",
   "id": "d3bf8907-ff9f-4a1e-900d-fe0e9f17abb9",
   "metadata": {},
   "source": [
    "As we used random values for prediction, the AUC score is close to 0.5 as expected."
   ]
  },
  {
   "cell_type": "markdown",
   "id": "572321db-a5dc-430b-9cd6-27948106760f",
   "metadata": {},
   "source": [
    "## 02. ePytope-TCR\n",
    "A more detailed description on ePytope-TCR can be found in this tutorial https://github.com/SchubertLab/epytope/blob/main/epytope/tutorials/TCRPrediction.ipynb\n",
    "\n",
    "We will use the predictor class from this tutorial."
   ]
  },
  {
   "cell_type": "code",
   "execution_count": 8,
   "id": "0361c724-e2e6-4709-8065-274b02e5c4ab",
   "metadata": {},
   "outputs": [],
   "source": [
    "from epytope.TCRSpecificityPrediction import ACmdTCRSpecificityPrediction\n",
    "from epytope.Core import Peptide, Allele, TCREpitope, ImmuneReceptorChain, ImmuneReceptor\n",
    "import numpy as np\n",
    "import pandas\n",
    "\n",
    "class RandomTCRSpecificityPrediction(ACmdTCRSpecificityPrediction):\n",
    "    __name = \"random\"\n",
    "    __version = \"1.0.0\"\n",
    "    __tcr_length = (0, 40)  # Admissable CDR3 length\n",
    "    __epitope_length = (0, 40)  # Admissable epitope lenght \n",
    "    __organism = \"H\"  # Allowed organism of the TCRs (H=Human, M=Mouse, e.g. HM)\n",
    "\n",
    "    @property\n",
    "    def version(self):\n",
    "        return self.__version\n",
    "\n",
    "    @property\n",
    "    def name(self):\n",
    "        return self.__name\n",
    "\n",
    "    @property\n",
    "    def tcr_length(self):\n",
    "        return self.__tcr_length\n",
    "\n",
    "    @property\n",
    "    def epitope_length(self):\n",
    "        return self.__epitope_length\n",
    "    \n",
    "    @property\n",
    "    def organism(self):\n",
    "        return self.__organism\n",
    "    \n",
    "    def predict(self, tcrs, epitopes, pairwise=True, interpreter=None, conda=None, cmd_prefix=None, **kwargs):\n",
    "        # Make multiple input types available\n",
    "        if pairwise:\n",
    "            epitopes = list(set(epitopes))\n",
    "            \n",
    "        # test wether the input is correct\n",
    "        self.input_check(tcrs, epitopes, pairwise, **kwargs)\n",
    "        \n",
    "        # insert your own prediction here\n",
    "        # We suggest this workflow:\n",
    "        results = tcrs.to_pandas()  # convert the dataframe to pandas\n",
    "\n",
    "        if pairwise:\n",
    "            results = self.combine_tcrs_epitopes_pairwise(results, epitopes)  # Prebuild function to perform pairwise prediction (e.g. format the dataframe above to test each epitope against each TCR)\n",
    "        else:\n",
    "            results = self.combine_tcrs_epitopes_list(results, epitopes)  # Prebuild function to perform prediction between a list of TCRs to a corresponding list of epitopes\n",
    "        results = results.drop_duplicates([\"VDJ_cdr3\", \"Epitope\"])  # remove duplicates to avoid unnecessary computation\n",
    "\n",
    "        # Potentially rename any column names that require a different name for your predictor\n",
    "        results[\"Score\"] = np.random.rand(len(results))  # assign a score to each column, here we use random prediction without any connection of input and output\n",
    "        \n",
    "        # create a TCRspecificity result\n",
    "        # alternatively you can create a pandas.DataFrame yourself, that follows the epytope-TCR-prediction format\n",
    "        # list of columns on which tcrs and results should be joined. Note, no duplicates are allowed based on these columns. This typically boils down to the collumns needed for your prediction model\n",
    "        joining_list = [\"VDJ_cdr3\", \"Epitope\"]  \n",
    "        results = results[joining_list + ['Score']]\n",
    "        df_result = self.transform_output(results, tcrs, epitopes, pairwise, joining_list)  # this creates the right output format\n",
    "        return df_result"
   ]
  },
  {
   "cell_type": "markdown",
   "id": "b1cf0a1e-ac9c-46d7-bd0d-8883f1c1f357",
   "metadata": {},
   "source": [
    "We can use the wrapper provided by the benchmark suite to obtain the prediction function."
   ]
  },
  {
   "cell_type": "code",
   "execution_count": 9,
   "id": "6c6a8109-9f2d-4be8-8f22-ab4c82af7cc4",
   "metadata": {},
   "outputs": [],
   "source": [
    "from tcr_benchmark.study.ePytopeWrapper import wrapp_predictor\n",
    "predictor_name2 = 'random'\n",
    "prediction_func2 = wrapp_predictor(predictor_name2)"
   ]
  },
  {
   "cell_type": "code",
   "execution_count": 10,
   "id": "c3ea352d-273d-4dfd-8f57-28d3f87dc2cb",
   "metadata": {},
   "outputs": [
    {
     "name": "stderr",
     "output_type": "stream",
     "text": [
      "RuntimeWarning: invalid value encountered in divide\n"
     ]
    },
    {
     "data": {
      "text/html": [
       "<div>\n",
       "<style scoped>\n",
       "    .dataframe tbody tr th:only-of-type {\n",
       "        vertical-align: middle;\n",
       "    }\n",
       "\n",
       "    .dataframe tbody tr th {\n",
       "        vertical-align: top;\n",
       "    }\n",
       "\n",
       "    .dataframe thead th {\n",
       "        text-align: right;\n",
       "    }\n",
       "</style>\n",
       "<table border=\"1\" class=\"dataframe\">\n",
       "  <thead>\n",
       "    <tr style=\"text-align: right;\">\n",
       "      <th></th>\n",
       "      <th>Method</th>\n",
       "      <th>Dataset</th>\n",
       "      <th>Group</th>\n",
       "      <th>Support</th>\n",
       "      <th>Metric_Type</th>\n",
       "      <th>Metric</th>\n",
       "      <th>Value</th>\n",
       "    </tr>\n",
       "  </thead>\n",
       "  <tbody>\n",
       "    <tr>\n",
       "      <th>0</th>\n",
       "      <td>random</td>\n",
       "      <td>Viral</td>\n",
       "      <td>full_data</td>\n",
       "      <td>638</td>\n",
       "      <td>MPS</td>\n",
       "      <td>AverageRank</td>\n",
       "      <td>7.606583</td>\n",
       "    </tr>\n",
       "    <tr>\n",
       "      <th>1</th>\n",
       "      <td>random</td>\n",
       "      <td>Viral</td>\n",
       "      <td>full_data</td>\n",
       "      <td>638</td>\n",
       "      <td>MPS</td>\n",
       "      <td>R@1</td>\n",
       "      <td>0.068966</td>\n",
       "    </tr>\n",
       "    <tr>\n",
       "      <th>2</th>\n",
       "      <td>random</td>\n",
       "      <td>Viral</td>\n",
       "      <td>full_data</td>\n",
       "      <td>638</td>\n",
       "      <td>MPS</td>\n",
       "      <td>R@3</td>\n",
       "      <td>0.210031</td>\n",
       "    </tr>\n",
       "    <tr>\n",
       "      <th>3</th>\n",
       "      <td>random</td>\n",
       "      <td>Viral</td>\n",
       "      <td>full_data</td>\n",
       "      <td>638</td>\n",
       "      <td>MPS</td>\n",
       "      <td>R@5</td>\n",
       "      <td>0.346395</td>\n",
       "    </tr>\n",
       "    <tr>\n",
       "      <th>4</th>\n",
       "      <td>random</td>\n",
       "      <td>Viral</td>\n",
       "      <td>full_data</td>\n",
       "      <td>638</td>\n",
       "      <td>MPS</td>\n",
       "      <td>R@8</td>\n",
       "      <td>0.573668</td>\n",
       "    </tr>\n",
       "  </tbody>\n",
       "</table>\n",
       "</div>"
      ],
      "text/plain": [
       "   Method Dataset      Group  Support Metric_Type       Metric     Value\n",
       "0  random   Viral  full_data      638         MPS  AverageRank  7.606583\n",
       "1  random   Viral  full_data      638         MPS          R@1  0.068966\n",
       "2  random   Viral  full_data      638         MPS          R@3  0.210031\n",
       "3  random   Viral  full_data      638         MPS          R@5  0.346395\n",
       "4  random   Viral  full_data      638         MPS          R@8  0.573668"
      ]
     },
     "execution_count": 10,
     "metadata": {},
     "output_type": "execute_result"
    }
   ],
   "source": [
    "test2 = NAME_2_TEST[dataset](None)\n",
    "results_dataset2 = test2.run_tests(prediction_func2, predictor_name2, {})\n",
    "results_dataset2.head(5)"
   ]
  },
  {
   "cell_type": "code",
   "execution_count": 11,
   "id": "7058cefc-e353-4fdb-a4c7-47e57c7f758b",
   "metadata": {},
   "outputs": [
    {
     "data": {
      "text/html": [
       "<div>\n",
       "<style scoped>\n",
       "    .dataframe tbody tr th:only-of-type {\n",
       "        vertical-align: middle;\n",
       "    }\n",
       "\n",
       "    .dataframe tbody tr th {\n",
       "        vertical-align: top;\n",
       "    }\n",
       "\n",
       "    .dataframe thead th {\n",
       "        text-align: right;\n",
       "    }\n",
       "</style>\n",
       "<table border=\"1\" class=\"dataframe\">\n",
       "  <thead>\n",
       "    <tr style=\"text-align: right;\">\n",
       "      <th></th>\n",
       "      <th>Method</th>\n",
       "      <th>Dataset</th>\n",
       "      <th>Group</th>\n",
       "      <th>Support</th>\n",
       "      <th>Metric_Type</th>\n",
       "      <th>Metric</th>\n",
       "      <th>Value</th>\n",
       "    </tr>\n",
       "  </thead>\n",
       "  <tbody>\n",
       "    <tr>\n",
       "      <th>75</th>\n",
       "      <td>random</td>\n",
       "      <td>Viral</td>\n",
       "      <td>full_data</td>\n",
       "      <td>8932</td>\n",
       "      <td>TTP</td>\n",
       "      <td>AUC</td>\n",
       "      <td>0.49194</td>\n",
       "    </tr>\n",
       "  </tbody>\n",
       "</table>\n",
       "</div>"
      ],
      "text/plain": [
       "    Method Dataset      Group  Support Metric_Type Metric    Value\n",
       "75  random   Viral  full_data     8932         TTP    AUC  0.49194"
      ]
     },
     "execution_count": 11,
     "metadata": {},
     "output_type": "execute_result"
    }
   ],
   "source": [
    "results_dataset2[(results_dataset2['Metric']=='AUC')\n",
    "                & (results_dataset2['Group']=='full_data')    \n",
    "            ]"
   ]
  },
  {
   "cell_type": "code",
   "execution_count": null,
   "id": "8c52c42b-afc0-4524-8a16-d0e832e0efee",
   "metadata": {},
   "outputs": [],
   "source": []
  }
 ],
 "metadata": {
  "kernelspec": {
   "display_name": "Python [conda env:benchmark]",
   "language": "python",
   "name": "conda-env-benchmark-py"
  },
  "language_info": {
   "codemirror_mode": {
    "name": "ipython",
    "version": 3
   },
   "file_extension": ".py",
   "mimetype": "text/x-python",
   "name": "python",
   "nbconvert_exporter": "python",
   "pygments_lexer": "ipython3",
   "version": "3.8.20"
  }
 },
 "nbformat": 4,
 "nbformat_minor": 5
}
