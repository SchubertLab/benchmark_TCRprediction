{
 "cells": [
  {
   "cell_type": "code",
   "execution_count": 1,
   "id": "dd24c006",
   "metadata": {},
   "outputs": [],
   "source": [
    "import scanpy as sc"
   ]
  },
  {
   "cell_type": "markdown",
   "id": "c7c885cf",
   "metadata": {},
   "source": [
    "# Load data"
   ]
  },
  {
   "cell_type": "code",
   "execution_count": 2,
   "id": "8aa88bb1",
   "metadata": {},
   "outputs": [],
   "source": [
    "path_data = '../data/raw/02_dex_annotated_cd8.h5ad'\n",
    "df_cells = sc.read(path_data).obs"
   ]
  },
  {
   "cell_type": "markdown",
   "id": "bf9ba1ff",
   "metadata": {},
   "source": [
    "# Filter non-Binders"
   ]
  },
  {
   "cell_type": "code",
   "execution_count": 3,
   "id": "721e88f0",
   "metadata": {},
   "outputs": [
    {
     "name": "stdout",
     "output_type": "stream",
     "text": [
      "All cells: 53907\n",
      "Binding cells: 1636\n"
     ]
    }
   ],
   "source": [
    "print(f'All cells: {len(df_cells)}')\n",
    "df_cells = df_cells[df_cells['binding_ct']!='No binding'].copy()\n",
    "print(f'Binding cells: {len(df_cells)}')"
   ]
  },
  {
   "cell_type": "markdown",
   "id": "e93ec655",
   "metadata": {},
   "source": [
    "# Extract TCR Information"
   ]
  },
  {
   "cell_type": "code",
   "execution_count": 4,
   "id": "65b8b53d",
   "metadata": {},
   "outputs": [
    {
     "data": {
      "text/html": [
       "<div>\n",
       "<style scoped>\n",
       "    .dataframe tbody tr th:only-of-type {\n",
       "        vertical-align: middle;\n",
       "    }\n",
       "\n",
       "    .dataframe tbody tr th {\n",
       "        vertical-align: top;\n",
       "    }\n",
       "\n",
       "    .dataframe thead th {\n",
       "        text-align: right;\n",
       "    }\n",
       "</style>\n",
       "<table border=\"1\" class=\"dataframe\">\n",
       "  <thead>\n",
       "    <tr style=\"text-align: right;\">\n",
       "      <th></th>\n",
       "      <th>IR_VJ_1_junction_aa</th>\n",
       "      <th>IR_VDJ_1_junction_aa</th>\n",
       "      <th>IR_VJ_1_c_call</th>\n",
       "      <th>IR_VDJ_1_c_call</th>\n",
       "      <th>IR_VJ_1_v_call</th>\n",
       "      <th>IR_VDJ_1_v_call</th>\n",
       "      <th>IR_VJ_1_d_call</th>\n",
       "      <th>IR_VDJ_1_d_call</th>\n",
       "      <th>IR_VJ_1_j_call</th>\n",
       "      <th>IR_VDJ_1_j_call</th>\n",
       "      <th>epitope</th>\n",
       "      <th>clone_id</th>\n",
       "    </tr>\n",
       "  </thead>\n",
       "  <tbody>\n",
       "    <tr>\n",
       "      <th>AACTCAGCACCCAGTG-1-initial-0-0</th>\n",
       "      <td>CAASKGGGGKLIF</td>\n",
       "      <td>CSARQGRWEQYF</td>\n",
       "      <td>None</td>\n",
       "      <td>None</td>\n",
       "      <td>TRAV13-1</td>\n",
       "      <td>TRBV20-1</td>\n",
       "      <td>None</td>\n",
       "      <td>None</td>\n",
       "      <td>TRAJ23</td>\n",
       "      <td>TRBJ2-7</td>\n",
       "      <td>QYIKWPWYI</td>\n",
       "      <td>20.0</td>\n",
       "    </tr>\n",
       "    <tr>\n",
       "      <th>AACTCAGTCAGGTAAA-1-initial-0-0</th>\n",
       "      <td>CGTPINSGYALNF</td>\n",
       "      <td>CASSVGSLPTNEKLFF</td>\n",
       "      <td>None</td>\n",
       "      <td>None</td>\n",
       "      <td>TRAV30</td>\n",
       "      <td>TRBV9</td>\n",
       "      <td>None</td>\n",
       "      <td>None</td>\n",
       "      <td>TRAJ41</td>\n",
       "      <td>TRBJ1-4</td>\n",
       "      <td>KCYGVSPTK</td>\n",
       "      <td>22.0</td>\n",
       "    </tr>\n",
       "    <tr>\n",
       "      <th>AACTCAGTCATTATCC-1-initial-0-0</th>\n",
       "      <td>CIVRVVNQAGTALIF</td>\n",
       "      <td>CASSISGSRGEQFF</td>\n",
       "      <td>None</td>\n",
       "      <td>None</td>\n",
       "      <td>TRAV26-1</td>\n",
       "      <td>TRBV19</td>\n",
       "      <td>None</td>\n",
       "      <td>None</td>\n",
       "      <td>TRAJ15</td>\n",
       "      <td>TRBJ2-1</td>\n",
       "      <td>KCYGVSPTK</td>\n",
       "      <td>23.0</td>\n",
       "    </tr>\n",
       "    <tr>\n",
       "      <th>AACTGGTAGATGTGTA-1-initial-0-0</th>\n",
       "      <td>CAVNIDDKIIF</td>\n",
       "      <td>CASSPDIEQFF</td>\n",
       "      <td>None</td>\n",
       "      <td>None</td>\n",
       "      <td>TRAV12-2</td>\n",
       "      <td>TRBV7-9</td>\n",
       "      <td>None</td>\n",
       "      <td>None</td>\n",
       "      <td>TRAJ30</td>\n",
       "      <td>TRBJ2-1</td>\n",
       "      <td>YLQPRTFLL</td>\n",
       "      <td>28.0</td>\n",
       "    </tr>\n",
       "    <tr>\n",
       "      <th>AAGGAGCGTACAGTGG-1-initial-0-0</th>\n",
       "      <td>CVVGTNNAGNMLTF</td>\n",
       "      <td>CASSPETGVGNQPQHF</td>\n",
       "      <td>None</td>\n",
       "      <td>None</td>\n",
       "      <td>TRAV10</td>\n",
       "      <td>TRBV4-2</td>\n",
       "      <td>None</td>\n",
       "      <td>None</td>\n",
       "      <td>TRAJ39</td>\n",
       "      <td>TRBJ1-5</td>\n",
       "      <td>KCYGVSPTK</td>\n",
       "      <td>34.0</td>\n",
       "    </tr>\n",
       "  </tbody>\n",
       "</table>\n",
       "</div>"
      ],
      "text/plain": [
       "                               IR_VJ_1_junction_aa IR_VDJ_1_junction_aa  \\\n",
       "AACTCAGCACCCAGTG-1-initial-0-0       CAASKGGGGKLIF         CSARQGRWEQYF   \n",
       "AACTCAGTCAGGTAAA-1-initial-0-0       CGTPINSGYALNF     CASSVGSLPTNEKLFF   \n",
       "AACTCAGTCATTATCC-1-initial-0-0     CIVRVVNQAGTALIF       CASSISGSRGEQFF   \n",
       "AACTGGTAGATGTGTA-1-initial-0-0         CAVNIDDKIIF          CASSPDIEQFF   \n",
       "AAGGAGCGTACAGTGG-1-initial-0-0      CVVGTNNAGNMLTF     CASSPETGVGNQPQHF   \n",
       "\n",
       "                               IR_VJ_1_c_call IR_VDJ_1_c_call IR_VJ_1_v_call  \\\n",
       "AACTCAGCACCCAGTG-1-initial-0-0           None            None       TRAV13-1   \n",
       "AACTCAGTCAGGTAAA-1-initial-0-0           None            None         TRAV30   \n",
       "AACTCAGTCATTATCC-1-initial-0-0           None            None       TRAV26-1   \n",
       "AACTGGTAGATGTGTA-1-initial-0-0           None            None       TRAV12-2   \n",
       "AAGGAGCGTACAGTGG-1-initial-0-0           None            None         TRAV10   \n",
       "\n",
       "                               IR_VDJ_1_v_call IR_VJ_1_d_call IR_VDJ_1_d_call  \\\n",
       "AACTCAGCACCCAGTG-1-initial-0-0        TRBV20-1           None            None   \n",
       "AACTCAGTCAGGTAAA-1-initial-0-0           TRBV9           None            None   \n",
       "AACTCAGTCATTATCC-1-initial-0-0          TRBV19           None            None   \n",
       "AACTGGTAGATGTGTA-1-initial-0-0         TRBV7-9           None            None   \n",
       "AAGGAGCGTACAGTGG-1-initial-0-0         TRBV4-2           None            None   \n",
       "\n",
       "                               IR_VJ_1_j_call IR_VDJ_1_j_call    epitope  \\\n",
       "AACTCAGCACCCAGTG-1-initial-0-0         TRAJ23         TRBJ2-7  QYIKWPWYI   \n",
       "AACTCAGTCAGGTAAA-1-initial-0-0         TRAJ41         TRBJ1-4  KCYGVSPTK   \n",
       "AACTCAGTCATTATCC-1-initial-0-0         TRAJ15         TRBJ2-1  KCYGVSPTK   \n",
       "AACTGGTAGATGTGTA-1-initial-0-0         TRAJ30         TRBJ2-1  YLQPRTFLL   \n",
       "AAGGAGCGTACAGTGG-1-initial-0-0         TRAJ39         TRBJ1-5  KCYGVSPTK   \n",
       "\n",
       "                               clone_id  \n",
       "AACTCAGCACCCAGTG-1-initial-0-0     20.0  \n",
       "AACTCAGTCAGGTAAA-1-initial-0-0     22.0  \n",
       "AACTCAGTCATTATCC-1-initial-0-0     23.0  \n",
       "AACTGGTAGATGTGTA-1-initial-0-0     28.0  \n",
       "AAGGAGCGTACAGTGG-1-initial-0-0     34.0  "
      ]
     },
     "execution_count": 4,
     "metadata": {},
     "output_type": "execute_result"
    }
   ],
   "source": [
    "df_cells = df_cells[['clone_id', 'clonotype_sequence', 'v_genes', 'j_genes', 'binding_ct']]\n",
    "for i, chain in enumerate(['VJ', 'VDJ']):\n",
    "    for col_old, col_new in [('clonotype_sequence', 'junction_aa', ), ('v_genes', 'v_call'), ('j_genes', 'j_call')]:\n",
    "        df_cells[f'IR_{chain}_1_{col_new}'] = df_cells[col_old].str.split(' ').str[i]\n",
    "\n",
    "df_cells = df_cells.rename(columns={'binding_ct': 'epitope'})\n",
    "df_cells['IR_VJ_1_c_call'] = None\n",
    "df_cells['IR_VDJ_1_c_call'] = None\n",
    "df_cells['IR_VJ_1_d_call'] = None\n",
    "df_cells['IR_VDJ_1_d_call'] = None\n",
    "\n",
    "df_cells = df_cells[['IR_VJ_1_junction_aa', 'IR_VDJ_1_junction_aa',\n",
    "                    'IR_VJ_1_c_call', 'IR_VDJ_1_c_call',\n",
    "                    'IR_VJ_1_v_call', 'IR_VDJ_1_v_call',    \n",
    "                    'IR_VJ_1_d_call', 'IR_VDJ_1_d_call',\n",
    "                    'IR_VJ_1_j_call', 'IR_VDJ_1_j_call',\n",
    "                    'epitope', 'clone_id']]\n",
    "df_cells.head(5)"
   ]
  },
  {
   "cell_type": "markdown",
   "id": "a01b2976",
   "metadata": {},
   "source": [
    "# Remove Cross-Reactives clones"
   ]
  },
  {
   "cell_type": "code",
   "execution_count": 5,
   "id": "298f8494",
   "metadata": {},
   "outputs": [
    {
     "name": "stdout",
     "output_type": "stream",
     "text": [
      "With cross-reactive clones: 1636\n",
      "WO cross-reactive clones: 1636\n"
     ]
    }
   ],
   "source": [
    "crossreactive_clones = df_cells.groupby('clone_id')['epitope'].nunique()\n",
    "crossreactive_clones = crossreactive_clones[crossreactive_clones>1].index.tolist()\n",
    "\n",
    "print(f'With cross-reactive clones: {len(df_cells)}')\n",
    "df_cells = df_cells[~df_cells['clone_id'].isin(crossreactive_clones)]\n",
    "print(f'WO cross-reactive clones: {len(df_cells)}')"
   ]
  },
  {
   "cell_type": "markdown",
   "id": "f1a99085",
   "metadata": {},
   "source": [
    "# Reduce to clones"
   ]
  },
  {
   "cell_type": "code",
   "execution_count": 6,
   "id": "a1b36be3",
   "metadata": {},
   "outputs": [
    {
     "name": "stdout",
     "output_type": "stream",
     "text": [
      "Amount cells: 1636\n",
      "Amount clones: 667\n"
     ]
    },
    {
     "data": {
      "text/plain": [
       "LTDEMIAQY     131\n",
       "KCYGVSPTK     130\n",
       "QYIKWPWYI     124\n",
       "NYNYLYRLF     121\n",
       "YLQPRTFLL      70\n",
       "SPRRARSVA      31\n",
       "CTELKLSDY      14\n",
       "YTNSFTRGVY     13\n",
       "RAKFKQLL       11\n",
       "FPQSAPHGV       9\n",
       "RLQSLQTYV       7\n",
       "FLRGRAYGL       3\n",
       "QPYRVVVL        2\n",
       "VLNDILSRL       1\n",
       "No binding      0\n",
       "Name: epitope, dtype: int64"
      ]
     },
     "execution_count": 6,
     "metadata": {},
     "output_type": "execute_result"
    }
   ],
   "source": [
    "print(f'Amount cells: {len(df_cells)}')\n",
    "df_clones = df_cells.drop_duplicates()\n",
    "print(f'Amount clones: {len(df_clones)}')\n",
    "df_clones['epitope'].value_counts()"
   ]
  },
  {
   "cell_type": "markdown",
   "id": "ed60ca23",
   "metadata": {},
   "source": [
    "# Save data"
   ]
  },
  {
   "cell_type": "code",
   "execution_count": 7,
   "id": "c8c5873b",
   "metadata": {},
   "outputs": [],
   "source": [
    "df_clones.to_csv('../data/02_covid_dextramer_clones.csv')"
   ]
  },
  {
   "cell_type": "code",
   "execution_count": 8,
   "id": "40e17fe3",
   "metadata": {},
   "outputs": [
    {
     "data": {
      "text/plain": [
       "667"
      ]
     },
     "execution_count": 8,
     "metadata": {},
     "output_type": "execute_result"
    }
   ],
   "source": [
    "df_clones['clone_id'].nunique()"
   ]
  },
  {
   "cell_type": "code",
   "execution_count": null,
   "id": "aaa23d67",
   "metadata": {},
   "outputs": [],
   "source": []
  }
 ],
 "metadata": {
  "kernelspec": {
   "display_name": "Python [conda env:covidVac]",
   "language": "python",
   "name": "conda-env-covidVac-py"
  },
  "language_info": {
   "codemirror_mode": {
    "name": "ipython",
    "version": 3
   },
   "file_extension": ".py",
   "mimetype": "text/x-python",
   "name": "python",
   "nbconvert_exporter": "python",
   "pygments_lexer": "ipython3",
   "version": "3.7.1"
  }
 },
 "nbformat": 4,
 "nbformat_minor": 5
}
